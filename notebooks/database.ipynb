{
 "cells": [
  {
   "cell_type": "code",
   "execution_count": 9,
   "metadata": {},
   "outputs": [
    {
     "data": {
      "text/plain": [
       "dict_keys(['password', 'dbname', 'engine', 'port', 'dbInstanceIdentifier', 'host', 'username'])"
      ]
     },
     "execution_count": 9,
     "metadata": {},
     "output_type": "execute_result"
    }
   ],
   "source": [
    "import json\n",
    "import boto3\n",
    "from typing import Dict\n",
    "\n",
    "SECRET_NAME = \"ds4a-project-dev-db-connection-secret\"\n",
    "\n",
    "\n",
    "def get_secret(aws: boto3.Session, secret_name: str) -> Dict[str, str]:\n",
    "    sm = aws.client(\"secretsmanager\")\n",
    "    response = sm.get_secret_value(SecretId=secret_name)\n",
    "    secret = response[\"SecretString\"]\n",
    "    return json.loads(secret)\n",
    "\n",
    "\n",
    "aws = boto3.Session()\n",
    "params = get_secret(aws, SECRET_NAME)\n",
    "params.keys()\n"
   ]
  },
  {
   "cell_type": "code",
   "execution_count": 10,
   "metadata": {},
   "outputs": [
    {
     "data": {
      "text/plain": [
       "('PostgreSQL 13.4 on aarch64-unknown-linux-gnu, compiled by gcc (GCC) 7.3.1 20180712 (Red Hat 7.3.1-6), 64-bit',)"
      ]
     },
     "execution_count": 10,
     "metadata": {},
     "output_type": "execute_result"
    }
   ],
   "source": [
    "import psycopg2\n",
    "\n",
    "\n",
    "conn = psycopg2.connect(\n",
    "    host=params[\"host\"],\n",
    "    database=params[\"dbname\"],\n",
    "    user=params[\"username\"],\n",
    "    password=params[\"password\"],\n",
    ")\n",
    "\n",
    "cur = conn.cursor()\n",
    "cur.execute(\"SELECT version()\")\n",
    "cur.fetchone()\n"
   ]
  },
  {
   "cell_type": "code",
   "execution_count": 81,
   "metadata": {},
   "outputs": [
    {
     "name": "stdout",
     "output_type": "stream",
     "text": [
      "len(resultset)=704\n"
     ]
    },
    {
     "data": {
      "text/plain": [
       "[{'name': 'Montecristo',\n",
       "  'code': 13458,\n",
       "  'population': 15415,\n",
       "  'suicide_attempts': 2,\n",
       "  'latitude': Decimal('8.29724472765'),\n",
       "  'longitude': Decimal('-74.4714158637')},\n",
       " {'name': 'Usiacurí',\n",
       "  'code': 8849,\n",
       "  'population': 11713,\n",
       "  'suicide_attempts': 3,\n",
       "  'latitude': Decimal('10.742979811'),\n",
       "  'longitude': Decimal('-74.9769840969')},\n",
       " {'name': 'Pinchote',\n",
       "  'code': 68549,\n",
       "  'population': 5062,\n",
       "  'suicide_attempts': 1,\n",
       "  'latitude': Decimal('6.53206093514'),\n",
       "  'longitude': Decimal('-73.1729190191')},\n",
       " {'name': 'Malambo',\n",
       "  'code': 8433,\n",
       "  'population': 121589,\n",
       "  'suicide_attempts': 30,\n",
       "  'latitude': Decimal('10.856822692'),\n",
       "  'longitude': Decimal('-74.7748637454')},\n",
       " {'name': 'Guasca',\n",
       "  'code': 25322,\n",
       "  'population': 14313,\n",
       "  'suicide_attempts': 1,\n",
       "  'latitude': Decimal('4.86671913331'),\n",
       "  'longitude': Decimal('-73.8771423949')},\n",
       " {'name': 'Villamaría',\n",
       "  'code': 17873,\n",
       "  'population': 62261,\n",
       "  'suicide_attempts': 36,\n",
       "  'latitude': Decimal('5.043806686'),\n",
       "  'longitude': Decimal('-75.513760602')},\n",
       " {'name': 'Colombia',\n",
       "  'code': 41206,\n",
       "  'population': 7427,\n",
       "  'suicide_attempts': 8,\n",
       "  'latitude': Decimal('3.37697664839'),\n",
       "  'longitude': Decimal('-74.8028152505')},\n",
       " {'name': 'Ventaquemada',\n",
       "  'code': 15861,\n",
       "  'population': 15270,\n",
       "  'suicide_attempts': 5,\n",
       "  'latitude': Decimal('5.36885763606'),\n",
       "  'longitude': Decimal('-73.5224525403')},\n",
       " {'name': 'Marquetalia',\n",
       "  'code': 17444,\n",
       "  'population': 13395,\n",
       "  'suicide_attempts': 8,\n",
       "  'latitude': Decimal('5.29752541271'),\n",
       "  'longitude': Decimal('-75.0530937905')},\n",
       " {'name': 'Puerto Tejada',\n",
       "  'code': 19573,\n",
       "  'population': 41209,\n",
       "  'suicide_attempts': 3,\n",
       "  'latitude': Decimal('3.23329388435'),\n",
       "  'longitude': Decimal('-76.4173065509')}]"
      ]
     },
     "execution_count": 81,
     "metadata": {},
     "output_type": "execute_result"
    }
   ],
   "source": [
    "from psycopg2.extras import RealDictCursor\n",
    "\n",
    "query = \"\"\"--sql\n",
    "    SELECT \n",
    "        m.name as name,\n",
    "        m.code as code,\n",
    "        mph.total as population,\n",
    "        sum(sa.count) as suicide_attempts,\n",
    "        CASE\n",
    "            WHEN m.latitude = 'NaN' THEN NULL\n",
    "            ELSE m.latitude\n",
    "        END AS latitude,\n",
    "        CASE\n",
    "            WHEN m.longitude = 'NaN' THEN NULL\n",
    "            ELSE m.longitude\n",
    "        END AS longitude\n",
    "    FROM suicideAttempts sa\n",
    "    JOIN municipalities m \n",
    "        ON sa.municipality_id = m.code\n",
    "    JOIN municipalityPopulationHistory mph \n",
    "        ON sa.municipality_id = mph.municipality_id AND sa.year = mph.year\n",
    "    WHERE sa.year = 2016\n",
    "    GROUP BY \n",
    "        name, code, population\n",
    "\"\"\"\n",
    "\n",
    "try:\n",
    "    cursor = conn.cursor(cursor_factory=RealDictCursor)\n",
    "    cursor.execute(query)\n",
    "    res = cursor.fetchall()\n",
    "    conn.commit()\n",
    "except Exception as e:\n",
    "    conn.rollback()\n",
    "    print(e)\n",
    "\n",
    "resultset = [dict(row) for row in res]\n",
    "print(f\"{len(resultset)=:,d}\")\n",
    "resultset[:10]\n"
   ]
  },
  {
   "cell_type": "code",
   "execution_count": 51,
   "metadata": {},
   "outputs": [],
   "source": [
    "delete_statement = \"\"\"--sql\n",
    "DELETE FROM\n",
    "    interfamilyViolence a\n",
    "        USING interfamilyViolence b\n",
    "WHERE\n",
    "    a.id > b.id\n",
    "    AND a.year = b.year\n",
    "    AND a.count = b.count\n",
    "    AND a.municipality_id = b.municipality_id;\n",
    "\"\"\"\n",
    "\n",
    "try:\n",
    "    cur.execute(delete_statement)\n",
    "    conn.commit()\n",
    "except Exception as e:\n",
    "    print(e)\n",
    "    conn.rollback()\n"
   ]
  },
  {
   "cell_type": "code",
   "execution_count": 6,
   "metadata": {},
   "outputs": [
    {
     "data": {
      "text/plain": [
       "[RealDictRow([('table_name', 'departments')]),\n",
       " RealDictRow([('table_name', 'departmentspopulationhistory')])]"
      ]
     },
     "execution_count": 6,
     "metadata": {},
     "output_type": "execute_result"
    }
   ],
   "source": [
    "from psycopg2.extras import RealDictCursor\n",
    "\n",
    "query = \"\"\"--sql\n",
    "SELECT table_name FROM information_schema.tables\n",
    "    WHERE table_schema = 'public'\n",
    "\"\"\"\n",
    "\n",
    "try:\n",
    "    cursor = conn.cursor(cursor_factory=RealDictCursor)\n",
    "    cursor.execute(query)\n",
    "    res = cursor.fetchall()\n",
    "    conn.commit()\n",
    "except:\n",
    "    res = None\n",
    "    conn.rollback()\n",
    "\n",
    "res\n"
   ]
  },
  {
   "cell_type": "code",
   "execution_count": 8,
   "metadata": {},
   "outputs": [],
   "source": [
    "conn.close()"
   ]
  }
 ],
 "metadata": {
  "kernelspec": {
   "display_name": "Python 3.8.12 ('ds4a')",
   "language": "python",
   "name": "python3"
  },
  "language_info": {
   "codemirror_mode": {
    "name": "ipython",
    "version": 3
   },
   "file_extension": ".py",
   "mimetype": "text/x-python",
   "name": "python",
   "nbconvert_exporter": "python",
   "pygments_lexer": "ipython3",
   "version": "3.8.12"
  },
  "orig_nbformat": 4,
  "vscode": {
   "interpreter": {
    "hash": "ee756497a570cc066a384e31a93f42c0973d151443645ad8e9d2a66bbc31a928"
   }
  }
 },
 "nbformat": 4,
 "nbformat_minor": 2
}
