{
 "cells": [
  {
   "cell_type": "code",
   "execution_count": 8,
   "metadata": {},
   "outputs": [
    {
     "data": {
      "text/plain": [
       "dict_keys(['password', 'dbname', 'engine', 'port', 'dbInstanceIdentifier', 'host', 'username'])"
      ]
     },
     "execution_count": 8,
     "metadata": {},
     "output_type": "execute_result"
    }
   ],
   "source": [
    "import json\n",
    "import boto3\n",
    "from typing import Dict\n",
    "\n",
    "SECRET_NAME = \"ds4a-project-dev-db-connection-secret\"\n",
    "\n",
    "\n",
    "def get_secret(aws: boto3.Session, secret_name: str) -> Dict[str, str]:\n",
    "    sm = aws.client(\"secretsmanager\")\n",
    "    response = sm.get_secret_value(SecretId=secret_name)\n",
    "    secret = response[\"SecretString\"]\n",
    "    return json.loads(secret)\n",
    "\n",
    "\n",
    "aws = boto3.Session()\n",
    "params = get_secret(aws, SECRET_NAME)\n",
    "params.keys()\n"
   ]
  },
  {
   "cell_type": "code",
   "execution_count": 9,
   "metadata": {},
   "outputs": [],
   "source": [
    "import psycopg2\n",
    "\n",
    "\n",
    "conn = psycopg2.connect(\n",
    "    host=params[\"host\"],\n",
    "    database=params[\"dbname\"],\n",
    "    user=params[\"username\"],\n",
    "    password=params[\"password\"],\n",
    ")\n"
   ]
  },
  {
   "cell_type": "code",
   "execution_count": 6,
   "metadata": {},
   "outputs": [
    {
     "data": {
      "text/plain": [
       "psycopg2.extensions.cursor"
      ]
     },
     "execution_count": 6,
     "metadata": {},
     "output_type": "execute_result"
    }
   ],
   "source": [
    "cur = conn.cursor()\n",
    "type(cur)\n"
   ]
  },
  {
   "cell_type": "code",
   "execution_count": 7,
   "metadata": {},
   "outputs": [
    {
     "data": {
      "text/plain": [
       "psycopg2.extensions.connection"
      ]
     },
     "execution_count": 7,
     "metadata": {},
     "output_type": "execute_result"
    }
   ],
   "source": [
    "type(conn)\n"
   ]
  },
  {
   "cell_type": "code",
   "execution_count": 10,
   "metadata": {},
   "outputs": [
    {
     "data": {
      "text/plain": [
       "('PostgreSQL 13.4 on aarch64-unknown-linux-gnu, compiled by gcc (GCC) 7.3.1 20180712 (Red Hat 7.3.1-6), 64-bit',)"
      ]
     },
     "execution_count": 10,
     "metadata": {},
     "output_type": "execute_result"
    }
   ],
   "source": [
    "cur = conn.cursor()\n",
    "cur.execute(\"SELECT version()\")\n",
    "cur.fetchone()\n"
   ]
  },
  {
   "cell_type": "code",
   "execution_count": 9,
   "metadata": {},
   "outputs": [],
   "source": [
    "create_statement = \"\"\"--sql\n",
    "CREATE TABLE IF NOT EXISTS departments (\n",
    "    code INTEGER NOT NULL,\n",
    "    name VARCHAR(30) NOT NULL,\n",
    "    PRIMARY KEY (code)\n",
    ")\n",
    "\"\"\"\n",
    "\n",
    "cur.execute(create_statement)\n",
    "conn.commit()\n"
   ]
  },
  {
   "cell_type": "code",
   "execution_count": 10,
   "metadata": {},
   "outputs": [
    {
     "data": {
      "text/plain": [
       "[('code', 'integer', 'NO'), ('name', 'character varying', 'NO')]"
      ]
     },
     "execution_count": 10,
     "metadata": {},
     "output_type": "execute_result"
    }
   ],
   "source": [
    "query = \"\"\"--sql\n",
    "SELECT\n",
    "  column_name, data_type, is_nullable\n",
    "FROM\n",
    "  INFORMATION_SCHEMA.COLUMNS\n",
    "WHERE\n",
    "  TABLE_NAME = 'departments';\n",
    "\"\"\"\n",
    "cur.execute(query)\n",
    "cur.fetchall()\n"
   ]
  },
  {
   "cell_type": "code",
   "execution_count": 11,
   "metadata": {},
   "outputs": [],
   "source": [
    "cur.execute(\"\"\"--sql\n",
    "DROP TABLE departments\n",
    "\"\"\")\n",
    "conn.commit()\n"
   ]
  },
  {
   "cell_type": "code",
   "execution_count": 7,
   "metadata": {},
   "outputs": [],
   "source": [
    "conn.rollback()"
   ]
  },
  {
   "cell_type": "code",
   "execution_count": 11,
   "metadata": {},
   "outputs": [],
   "source": [
    "import pathlib\n",
    "import pandas as pd\n",
    "\n",
    "\n",
    "data_dir = pathlib.Path.home() / \"ds4a\" / \"project\" / \"infrastructure\" / \"data\"\n",
    "dept_pop = pd.read_csv(\n",
    "    data_dir / \"department_population_2016_2022.csv\",\n",
    "    sep=\";\",\n",
    "    usecols=[\"DP\", \"DPNOM\", \"AÑO\", \"Total Hombres\", \"Total Mujeres\", \"Total\"],\n",
    ")\n",
    "\n",
    "departments = dept_pop[[\"DP\", \"DPNOM\"]].drop_duplicates()\n"
   ]
  },
  {
   "cell_type": "code",
   "execution_count": 15,
   "metadata": {},
   "outputs": [
    {
     "name": "stdout",
     "output_type": "stream",
     "text": [
      "[5 'Antioquia']\n",
      "[8 'Atlántico']\n",
      "[11 'Bogotá, D.C.']\n",
      "[13 'Bolívar']\n",
      "[15 'Boyacá']\n",
      "[17 'Caldas']\n",
      "[18 'Caquetá']\n",
      "[19 'Cauca']\n",
      "[20 'Cesar']\n",
      "[23 'Córdoba']\n",
      "[25 'Cundinamarca']\n",
      "[27 'Chocó']\n",
      "[41 'Huila']\n",
      "[44 'La Guajira']\n",
      "[47 'Magdalena']\n",
      "[50 'Meta']\n",
      "[52 'Nariño']\n",
      "[54 'Norte de Santander']\n",
      "[63 'Quindio']\n",
      "[66 'Risaralda']\n",
      "[68 'Santander']\n",
      "[70 'Sucre']\n",
      "[73 'Tolima']\n",
      "[76 'Valle del Cauca']\n",
      "[81 'Arauca']\n",
      "[85 'Casanare']\n",
      "[86 'Putumayo']\n",
      "[88 'Archipiélago de San Andrés']\n",
      "[91 'Amazonas']\n",
      "[94 'Guainía']\n",
      "[95 'Guaviare']\n",
      "[97 'Vaupés']\n",
      "[99 'Vichada']\n"
     ]
    }
   ],
   "source": [
    "for x in departments.to_numpy():\n",
    "    print(x)\n"
   ]
  },
  {
   "cell_type": "code",
   "execution_count": 16,
   "metadata": {},
   "outputs": [],
   "source": [
    "import traceback\n",
    "from psycopg2.extras import execute_batch\n",
    "\n",
    "insert_statement = \"\"\"--sql\n",
    "INSERT INTO departments (code, name) VALUES (%s, %s)\n",
    "\"\"\"\n",
    "\n",
    "try:\n",
    "    execute_batch(cur, insert_statement, departments.to_numpy())\n",
    "    conn.commit()\n",
    "except Exception as e:\n",
    "    tb = traceback.format_exc()\n",
    "    print(tb)\n",
    "    conn.rollback()\n"
   ]
  },
  {
   "cell_type": "code",
   "execution_count": 17,
   "metadata": {},
   "outputs": [
    {
     "data": {
      "text/plain": [
       "[(33,)]"
      ]
     },
     "execution_count": 17,
     "metadata": {},
     "output_type": "execute_result"
    }
   ],
   "source": [
    "query = \"\"\"--sql\n",
    "SELECT count(*) FROM departments\n",
    "\"\"\"\n",
    "\n",
    "cur.execute(query)\n",
    "cur.fetchall()\n"
   ]
  },
  {
   "cell_type": "code",
   "execution_count": 26,
   "metadata": {},
   "outputs": [
    {
     "data": {
      "text/plain": [
       "[RealDictRow([('code', 5), ('name', 'Antioquia')]),\n",
       " RealDictRow([('code', 8), ('name', 'Atlántico')]),\n",
       " RealDictRow([('code', 11), ('name', 'Bogotá, D.C.')]),\n",
       " RealDictRow([('code', 13), ('name', 'Bolívar')]),\n",
       " RealDictRow([('code', 15), ('name', 'Boyacá')]),\n",
       " RealDictRow([('code', 17), ('name', 'Caldas')]),\n",
       " RealDictRow([('code', 18), ('name', 'Caquetá')]),\n",
       " RealDictRow([('code', 19), ('name', 'Cauca')]),\n",
       " RealDictRow([('code', 20), ('name', 'Cesar')]),\n",
       " RealDictRow([('code', 23), ('name', 'Córdoba')]),\n",
       " RealDictRow([('code', 25), ('name', 'Cundinamarca')]),\n",
       " RealDictRow([('code', 27), ('name', 'Chocó')]),\n",
       " RealDictRow([('code', 41), ('name', 'Huila')]),\n",
       " RealDictRow([('code', 44), ('name', 'La Guajira')]),\n",
       " RealDictRow([('code', 47), ('name', 'Magdalena')]),\n",
       " RealDictRow([('code', 50), ('name', 'Meta')]),\n",
       " RealDictRow([('code', 52), ('name', 'Nariño')]),\n",
       " RealDictRow([('code', 54), ('name', 'Norte de Santander')]),\n",
       " RealDictRow([('code', 63), ('name', 'Quindio')]),\n",
       " RealDictRow([('code', 66), ('name', 'Risaralda')]),\n",
       " RealDictRow([('code', 68), ('name', 'Santander')]),\n",
       " RealDictRow([('code', 70), ('name', 'Sucre')]),\n",
       " RealDictRow([('code', 73), ('name', 'Tolima')]),\n",
       " RealDictRow([('code', 76), ('name', 'Valle del Cauca')]),\n",
       " RealDictRow([('code', 81), ('name', 'Arauca')]),\n",
       " RealDictRow([('code', 85), ('name', 'Casanare')]),\n",
       " RealDictRow([('code', 86), ('name', 'Putumayo')]),\n",
       " RealDictRow([('code', 88), ('name', 'Archipiélago de San Andrés')]),\n",
       " RealDictRow([('code', 91), ('name', 'Amazonas')]),\n",
       " RealDictRow([('code', 94), ('name', 'Guainía')]),\n",
       " RealDictRow([('code', 95), ('name', 'Guaviare')]),\n",
       " RealDictRow([('code', 97), ('name', 'Vaupés')]),\n",
       " RealDictRow([('code', 99), ('name', 'Vichada')])]"
      ]
     },
     "execution_count": 26,
     "metadata": {},
     "output_type": "execute_result"
    }
   ],
   "source": [
    "from psycopg2.extras import RealDictCursor\n",
    "\n",
    "query = \"\"\"--sql\n",
    "SELECT * FROM departments\n",
    "\"\"\"\n",
    "\n",
    "cursor = conn.cursor(cursor_factory=RealDictCursor)\n",
    "cursor.execute(query)\n",
    "res = cursor.fetchall()\n",
    "res\n"
   ]
  },
  {
   "cell_type": "code",
   "execution_count": null,
   "metadata": {},
   "outputs": [],
   "source": []
  }
 ],
 "metadata": {
  "kernelspec": {
   "display_name": "Python 3.8.12 ('ds4a')",
   "language": "python",
   "name": "python3"
  },
  "language_info": {
   "codemirror_mode": {
    "name": "ipython",
    "version": 3
   },
   "file_extension": ".py",
   "mimetype": "text/x-python",
   "name": "python",
   "nbconvert_exporter": "python",
   "pygments_lexer": "ipython3",
   "version": "3.8.12"
  },
  "orig_nbformat": 4,
  "vscode": {
   "interpreter": {
    "hash": "ee756497a570cc066a384e31a93f42c0973d151443645ad8e9d2a66bbc31a928"
   }
  }
 },
 "nbformat": 4,
 "nbformat_minor": 2
}
