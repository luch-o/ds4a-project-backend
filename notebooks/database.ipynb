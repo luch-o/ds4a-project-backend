{
 "cells": [
  {
   "cell_type": "code",
   "execution_count": 9,
   "metadata": {},
   "outputs": [
    {
     "data": {
      "text/plain": [
       "dict_keys(['password', 'dbname', 'engine', 'port', 'dbInstanceIdentifier', 'host', 'username'])"
      ]
     },
     "execution_count": 9,
     "metadata": {},
     "output_type": "execute_result"
    }
   ],
   "source": [
    "import json\n",
    "import boto3\n",
    "from typing import Dict\n",
    "\n",
    "SECRET_NAME = \"ds4a-project-dev-db-connection-secret\"\n",
    "\n",
    "\n",
    "def get_secret(aws: boto3.Session, secret_name: str) -> Dict[str, str]:\n",
    "    sm = aws.client(\"secretsmanager\")\n",
    "    response = sm.get_secret_value(SecretId=secret_name)\n",
    "    secret = response[\"SecretString\"]\n",
    "    return json.loads(secret)\n",
    "\n",
    "\n",
    "aws = boto3.Session()\n",
    "params = get_secret(aws, SECRET_NAME)\n",
    "params.keys()\n"
   ]
  },
  {
   "cell_type": "code",
   "execution_count": 10,
   "metadata": {},
   "outputs": [
    {
     "data": {
      "text/plain": [
       "('PostgreSQL 13.4 on aarch64-unknown-linux-gnu, compiled by gcc (GCC) 7.3.1 20180712 (Red Hat 7.3.1-6), 64-bit',)"
      ]
     },
     "execution_count": 10,
     "metadata": {},
     "output_type": "execute_result"
    }
   ],
   "source": [
    "import psycopg2\n",
    "\n",
    "\n",
    "conn = psycopg2.connect(\n",
    "    host=params[\"host\"],\n",
    "    database=params[\"dbname\"],\n",
    "    user=params[\"username\"],\n",
    "    password=params[\"password\"],\n",
    ")\n",
    "\n",
    "cur = conn.cursor()\n",
    "cur.execute(\"SELECT version()\")\n",
    "cur.fetchone()\n"
   ]
  },
  {
   "cell_type": "code",
   "execution_count": 42,
   "metadata": {},
   "outputs": [
    {
     "data": {
      "text/plain": [
       "[RealDictRow([('name', 'Bogotá, D.C.'),\n",
       "              ('code', 11001),\n",
       "              ('population', 7743955)])]"
      ]
     },
     "execution_count": 42,
     "metadata": {},
     "output_type": "execute_result"
    }
   ],
   "source": [
    "from psycopg2.extras import RealDictCursor\n",
    "\n",
    "query = \"\"\"--sql\n",
    "    SELECT \n",
    "        m.name as name,\n",
    "        m.code as code,\n",
    "        mph.total as population\n",
    "    FROM municipalities m\n",
    "    JOIN municipalityPopulationHistory mph ON m.code = mph.municipality_id\n",
    "    WHERE m.department_id = 11 AND mph.year = 2020\n",
    "    \"\"\"\n",
    "\n",
    "try:\n",
    "    cursor = conn.cursor(cursor_factory=RealDictCursor)\n",
    "    cursor.execute(query)\n",
    "    res = cursor.fetchall()\n",
    "    conn.commit()\n",
    "except:\n",
    "    res = []\n",
    "    conn.rollback()\n",
    "\n",
    "res"
   ]
  },
  {
   "cell_type": "code",
   "execution_count": 5,
   "metadata": {},
   "outputs": [],
   "source": [
    "# drop_statement = \"\"\"--sql\n",
    "#     DROP TABLE municipalities\n",
    "#     \"\"\"\n",
    "\n",
    "# try:\n",
    "#     cur.execute(drop_statement)\n",
    "#     conn.commit()\n",
    "# except Exception as e:\n",
    "#     print(e)\n",
    "#     conn.rollback()\n"
   ]
  },
  {
   "cell_type": "code",
   "execution_count": 6,
   "metadata": {},
   "outputs": [
    {
     "data": {
      "text/plain": [
       "[RealDictRow([('table_name', 'departments')]),\n",
       " RealDictRow([('table_name', 'departmentspopulationhistory')])]"
      ]
     },
     "execution_count": 6,
     "metadata": {},
     "output_type": "execute_result"
    }
   ],
   "source": [
    "from psycopg2.extras import RealDictCursor\n",
    "\n",
    "query = \"\"\"--sql\n",
    "SELECT table_name FROM information_schema.tables\n",
    "    WHERE table_schema = 'public'\n",
    "\"\"\"\n",
    "\n",
    "try:\n",
    "    cursor = conn.cursor(cursor_factory=RealDictCursor)\n",
    "    cursor.execute(query)\n",
    "    res = cursor.fetchall()\n",
    "    conn.commit()\n",
    "except:\n",
    "    res = None\n",
    "    conn.rollback()\n",
    "\n",
    "res\n"
   ]
  },
  {
   "cell_type": "code",
   "execution_count": 8,
   "metadata": {},
   "outputs": [],
   "source": [
    "conn.close()"
   ]
  }
 ],
 "metadata": {
  "kernelspec": {
   "display_name": "Python 3.8.12 ('ds4a')",
   "language": "python",
   "name": "python3"
  },
  "language_info": {
   "codemirror_mode": {
    "name": "ipython",
    "version": 3
   },
   "file_extension": ".py",
   "mimetype": "text/x-python",
   "name": "python",
   "nbconvert_exporter": "python",
   "pygments_lexer": "ipython3",
   "version": "3.8.12"
  },
  "orig_nbformat": 4,
  "vscode": {
   "interpreter": {
    "hash": "ee756497a570cc066a384e31a93f42c0973d151443645ad8e9d2a66bbc31a928"
   }
  }
 },
 "nbformat": 4,
 "nbformat_minor": 2
}
