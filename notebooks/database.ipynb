{
 "cells": [
  {
   "cell_type": "code",
   "execution_count": 1,
   "metadata": {},
   "outputs": [
    {
     "data": {
      "text/plain": [
       "dict_keys(['password', 'dbname', 'engine', 'port', 'dbInstanceIdentifier', 'host', 'username'])"
      ]
     },
     "execution_count": 1,
     "metadata": {},
     "output_type": "execute_result"
    }
   ],
   "source": [
    "import json\n",
    "import boto3\n",
    "from typing import Dict\n",
    "\n",
    "SECRET_NAME = \"ds4a-project-dev-db-connection-secret\"\n",
    "\n",
    "\n",
    "def get_secret(aws: boto3.Session, secret_name: str) -> Dict[str, str]:\n",
    "    sm = aws.client(\"secretsmanager\")\n",
    "    response = sm.get_secret_value(SecretId=secret_name)\n",
    "    secret = response[\"SecretString\"]\n",
    "    return json.loads(secret)\n",
    "\n",
    "\n",
    "aws = boto3.Session()\n",
    "params = get_secret(aws, SECRET_NAME)\n",
    "params.keys()\n"
   ]
  },
  {
   "cell_type": "code",
   "execution_count": 2,
   "metadata": {},
   "outputs": [
    {
     "data": {
      "text/plain": [
       "('PostgreSQL 13.4 on aarch64-unknown-linux-gnu, compiled by gcc (GCC) 7.3.1 20180712 (Red Hat 7.3.1-6), 64-bit',)"
      ]
     },
     "execution_count": 2,
     "metadata": {},
     "output_type": "execute_result"
    }
   ],
   "source": [
    "import psycopg2\n",
    "\n",
    "\n",
    "conn = psycopg2.connect(\n",
    "    host=params[\"host\"],\n",
    "    database=params[\"dbname\"],\n",
    "    user=params[\"username\"],\n",
    "    password=params[\"password\"],\n",
    ")\n",
    "\n",
    "cur = conn.cursor()\n",
    "cur.execute(\"SELECT version()\")\n",
    "cur.fetchone()\n"
   ]
  },
  {
   "cell_type": "code",
   "execution_count": 8,
   "metadata": {},
   "outputs": [
    {
     "name": "stdout",
     "output_type": "stream",
     "text": [
      "syntax error at or near \"mph\"\n",
      "LINE 7:         mph.total as population,\n",
      "                ^\n",
      "\n",
      "len(resultset)=460\n"
     ]
    },
    {
     "data": {
      "text/plain": [
       "[{'municipality_name': 'Medellín',\n",
       "  'municipality_code': 5001,\n",
       "  'department_name': 'Antioquia',\n",
       "  'department_code': 5,\n",
       "  'population': 2533424,\n",
       "  'suicides': 173,\n",
       "  'latitude': Decimal('6.24858636743'),\n",
       "  'longitude': Decimal('-75.5760017134')},\n",
       " {'municipality_name': 'Abejorral',\n",
       "  'municipality_code': 5002,\n",
       "  'department_name': 'Antioquia',\n",
       "  'department_code': 5,\n",
       "  'population': 20287,\n",
       "  'suicides': 1,\n",
       "  'latitude': Decimal('5.78930111433'),\n",
       "  'longitude': Decimal('-75.4287403904')},\n",
       " {'municipality_name': 'Amagá',\n",
       "  'municipality_code': 5030,\n",
       "  'department_name': 'Antioquia',\n",
       "  'department_code': 5,\n",
       "  'population': 31283,\n",
       "  'suicides': 1,\n",
       "  'latitude': Decimal('6.03880842381'),\n",
       "  'longitude': Decimal('-75.7019483389')},\n",
       " {'municipality_name': 'Amalfi',\n",
       "  'municipality_code': 5031,\n",
       "  'department_name': 'Antioquia',\n",
       "  'department_code': 5,\n",
       "  'population': 27071,\n",
       "  'suicides': 1,\n",
       "  'latitude': Decimal('6.90967360478'),\n",
       "  'longitude': Decimal('-75.0774749239')},\n",
       " {'municipality_name': 'Andes',\n",
       "  'municipality_code': 5034,\n",
       "  'department_name': 'Antioquia',\n",
       "  'department_code': 5,\n",
       "  'population': 44199,\n",
       "  'suicides': 4,\n",
       "  'latitude': Decimal('5.65676971311'),\n",
       "  'longitude': Decimal('-75.878794075')},\n",
       " {'municipality_name': 'Angostura',\n",
       "  'municipality_code': 5038,\n",
       "  'department_name': 'Antioquia',\n",
       "  'department_code': 5,\n",
       "  'population': 11536,\n",
       "  'suicides': 1,\n",
       "  'latitude': Decimal('6.88518441484'),\n",
       "  'longitude': Decimal('-75.3351091186')},\n",
       " {'municipality_name': 'Anorí',\n",
       "  'municipality_code': 5040,\n",
       "  'department_name': 'Antioquia',\n",
       "  'department_code': 5,\n",
       "  'population': 19104,\n",
       "  'suicides': 1,\n",
       "  'latitude': Decimal('7.07471004137'),\n",
       "  'longitude': Decimal('-75.1483449609')},\n",
       " {'municipality_name': 'Apartadó',\n",
       "  'municipality_code': 5045,\n",
       "  'department_name': 'Antioquia',\n",
       "  'department_code': 5,\n",
       "  'population': 127744,\n",
       "  'suicides': 5,\n",
       "  'latitude': Decimal('7.88325108195'),\n",
       "  'longitude': Decimal('-76.6258909217')},\n",
       " {'municipality_name': 'Arboletes',\n",
       "  'municipality_code': 5051,\n",
       "  'department_name': 'Antioquia',\n",
       "  'department_code': 5,\n",
       "  'population': 30510,\n",
       "  'suicides': 2,\n",
       "  'latitude': Decimal('8.84991827334'),\n",
       "  'longitude': Decimal('-76.4266581639')},\n",
       " {'municipality_name': 'Armenia',\n",
       "  'municipality_code': 5059,\n",
       "  'department_name': 'Antioquia',\n",
       "  'department_code': 5,\n",
       "  'population': 5074,\n",
       "  'suicides': 2,\n",
       "  'latitude': Decimal('6.15567240561'),\n",
       "  'longitude': Decimal('-75.7866245369')}]"
      ]
     },
     "execution_count": 8,
     "metadata": {},
     "output_type": "execute_result"
    }
   ],
   "source": [
    "from psycopg2.extras import RealDictCursor\n",
    "\n",
    "query = \"\"\"--sql\n",
    "    SELECT \n",
    "        m.name as municipality_name,\n",
    "        m.code as municipality_code,\n",
    "        d.name as department_name,\n",
    "        d.code as department_code,\n",
    "        mph.total as population,\n",
    "        sum(sa.count) as suicide_attempts,\n",
    "        CASE\n",
    "            WHEN m.latitude = 'NaN' THEN NULL\n",
    "            ELSE m.latitude\n",
    "        END AS latitude,\n",
    "        CASE\n",
    "            WHEN m.longitude = 'NaN' THEN NULL\n",
    "            ELSE m.longitude\n",
    "        END AS longitude\n",
    "    FROM suicideAttempts sa\n",
    "    JOIN municipality m\n",
    "        ON sa.municipality_id = m.code\n",
    "    JOIN departments d\n",
    "        ON m.department_id = d.code\n",
    "    JOIN municipalityPopulationHistory mph \n",
    "        ON sa.municipality_id = mph.municipality_id AND sa.year = mph.year\n",
    "    WHERE sa.year = %s\n",
    "    GROUP BY\n",
    "        municipality_name,\n",
    "        municipality_code,\n",
    "        department_name,\n",
    "        department_code,\n",
    "        population\n",
    "    \"\"\"\n",
    "\n",
    "values = [2020]\n",
    "\n",
    "try:\n",
    "    cursor = conn.cursor(cursor_factory=RealDictCursor)\n",
    "    cursor.execute(query, values)\n",
    "    res = cursor.fetchall()\n",
    "    conn.commit()\n",
    "except Exception as e:\n",
    "    conn.rollback()\n",
    "    print(e)\n",
    "\n",
    "resultset = [dict(row) for row in res]\n",
    "print(f\"{len(resultset)=:,d}\")\n",
    "resultset[:10]\n"
   ]
  },
  {
   "cell_type": "code",
   "execution_count": 51,
   "metadata": {},
   "outputs": [],
   "source": [
    "delete_statement = \"\"\"--sql\n",
    "DELETE FROM\n",
    "    interfamilyViolence a\n",
    "        USING interfamilyViolence b\n",
    "WHERE\n",
    "    a.id > b.id\n",
    "    AND a.year = b.year\n",
    "    AND a.count = b.count\n",
    "    AND a.municipality_id = b.municipality_id;\n",
    "\"\"\"\n",
    "\n",
    "try:\n",
    "    cur.execute(delete_statement)\n",
    "    conn.commit()\n",
    "except Exception as e:\n",
    "    print(e)\n",
    "    conn.rollback()\n"
   ]
  },
  {
   "cell_type": "code",
   "execution_count": 6,
   "metadata": {},
   "outputs": [
    {
     "data": {
      "text/plain": [
       "[RealDictRow([('table_name', 'departments')]),\n",
       " RealDictRow([('table_name', 'departmentspopulationhistory')])]"
      ]
     },
     "execution_count": 6,
     "metadata": {},
     "output_type": "execute_result"
    }
   ],
   "source": [
    "from psycopg2.extras import RealDictCursor\n",
    "\n",
    "query = \"\"\"--sql\n",
    "SELECT table_name FROM information_schema.tables\n",
    "    WHERE table_schema = 'public'\n",
    "\"\"\"\n",
    "\n",
    "try:\n",
    "    cursor = conn.cursor(cursor_factory=RealDictCursor)\n",
    "    cursor.execute(query)\n",
    "    res = cursor.fetchall()\n",
    "    conn.commit()\n",
    "except:\n",
    "    res = None\n",
    "    conn.rollback()\n",
    "\n",
    "res\n"
   ]
  },
  {
   "cell_type": "code",
   "execution_count": 8,
   "metadata": {},
   "outputs": [],
   "source": [
    "conn.close()"
   ]
  }
 ],
 "metadata": {
  "kernelspec": {
   "display_name": "Python 3.8.12 ('ds4a')",
   "language": "python",
   "name": "python3"
  },
  "language_info": {
   "codemirror_mode": {
    "name": "ipython",
    "version": 3
   },
   "file_extension": ".py",
   "mimetype": "text/x-python",
   "name": "python",
   "nbconvert_exporter": "python",
   "pygments_lexer": "ipython3",
   "version": "3.8.12"
  },
  "orig_nbformat": 4,
  "vscode": {
   "interpreter": {
    "hash": "ee756497a570cc066a384e31a93f42c0973d151443645ad8e9d2a66bbc31a928"
   }
  }
 },
 "nbformat": 4,
 "nbformat_minor": 2
}
