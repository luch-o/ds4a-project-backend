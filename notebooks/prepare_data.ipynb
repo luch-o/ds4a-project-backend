{
 "cells": [
  {
   "cell_type": "markdown",
   "metadata": {},
   "source": [
    "# Transform and Ingest Population"
   ]
  },
  {
   "cell_type": "markdown",
   "metadata": {},
   "source": [
    "## Department Population"
   ]
  },
  {
   "cell_type": "markdown",
   "metadata": {},
   "source": [
    "### Department Population History"
   ]
  },
  {
   "cell_type": "code",
   "execution_count": 6,
   "metadata": {},
   "outputs": [
    {
     "data": {
      "text/html": [
       "<div>\n",
       "<style scoped>\n",
       "    .dataframe tbody tr th:only-of-type {\n",
       "        vertical-align: middle;\n",
       "    }\n",
       "\n",
       "    .dataframe tbody tr th {\n",
       "        vertical-align: top;\n",
       "    }\n",
       "\n",
       "    .dataframe thead th {\n",
       "        text-align: right;\n",
       "    }\n",
       "</style>\n",
       "<table border=\"1\" class=\"dataframe\">\n",
       "  <thead>\n",
       "    <tr style=\"text-align: right;\">\n",
       "      <th></th>\n",
       "      <th>DP</th>\n",
       "      <th>DPNOM</th>\n",
       "      <th>AÑO</th>\n",
       "      <th>Total Hombres</th>\n",
       "      <th>Total Mujeres</th>\n",
       "      <th>Total</th>\n",
       "    </tr>\n",
       "  </thead>\n",
       "  <tbody>\n",
       "    <tr>\n",
       "      <th>0</th>\n",
       "      <td>5</td>\n",
       "      <td>Antioquia</td>\n",
       "      <td>2016</td>\n",
       "      <td>3000534</td>\n",
       "      <td>3210778</td>\n",
       "      <td>6211312</td>\n",
       "    </tr>\n",
       "    <tr>\n",
       "      <th>1</th>\n",
       "      <td>8</td>\n",
       "      <td>Atlántico</td>\n",
       "      <td>2016</td>\n",
       "      <td>1182828</td>\n",
       "      <td>1244218</td>\n",
       "      <td>2427046</td>\n",
       "    </tr>\n",
       "    <tr>\n",
       "      <th>2</th>\n",
       "      <td>11</td>\n",
       "      <td>Bogotá, D.C.</td>\n",
       "      <td>2016</td>\n",
       "      <td>3495609</td>\n",
       "      <td>3805309</td>\n",
       "      <td>7300918</td>\n",
       "    </tr>\n",
       "    <tr>\n",
       "      <th>3</th>\n",
       "      <td>13</td>\n",
       "      <td>Bolívar</td>\n",
       "      <td>2016</td>\n",
       "      <td>1000545</td>\n",
       "      <td>1012465</td>\n",
       "      <td>2013010</td>\n",
       "    </tr>\n",
       "    <tr>\n",
       "      <th>4</th>\n",
       "      <td>15</td>\n",
       "      <td>Boyacá</td>\n",
       "      <td>2016</td>\n",
       "      <td>590818</td>\n",
       "      <td>609160</td>\n",
       "      <td>1199978</td>\n",
       "    </tr>\n",
       "  </tbody>\n",
       "</table>\n",
       "</div>"
      ],
      "text/plain": [
       "   DP         DPNOM   AÑO  Total Hombres  Total Mujeres    Total\n",
       "0   5     Antioquia  2016        3000534        3210778  6211312\n",
       "1   8     Atlántico  2016        1182828        1244218  2427046\n",
       "2  11  Bogotá, D.C.  2016        3495609        3805309  7300918\n",
       "3  13       Bolívar  2016        1000545        1012465  2013010\n",
       "4  15        Boyacá  2016         590818         609160  1199978"
      ]
     },
     "execution_count": 6,
     "metadata": {},
     "output_type": "execute_result"
    }
   ],
   "source": [
    "import pathlib\n",
    "import pandas as pd\n",
    "\n",
    "data_dir = pathlib.Path.home() / \"ds4a\" / \"project\" / \"infrastructure\" / \"data\"\n",
    "dept_pop = pd.read_csv(\n",
    "    data_dir / \"department_population_2016_2022.csv\",\n",
    "    sep=\";\",\n",
    "    usecols=['DP', 'DPNOM', 'AÑO', 'Total Hombres', 'Total Mujeres', 'Total']\n",
    ")\n",
    "\n",
    "dept_pop.head()"
   ]
  },
  {
   "cell_type": "code",
   "execution_count": 7,
   "metadata": {},
   "outputs": [
    {
     "data": {
      "text/plain": [
       "231"
      ]
     },
     "execution_count": 7,
     "metadata": {},
     "output_type": "execute_result"
    }
   ],
   "source": [
    "len(dept_pop)"
   ]
  },
  {
   "cell_type": "code",
   "execution_count": 8,
   "metadata": {},
   "outputs": [
    {
     "data": {
      "text/html": [
       "<div>\n",
       "<style scoped>\n",
       "    .dataframe tbody tr th:only-of-type {\n",
       "        vertical-align: middle;\n",
       "    }\n",
       "\n",
       "    .dataframe tbody tr th {\n",
       "        vertical-align: top;\n",
       "    }\n",
       "\n",
       "    .dataframe thead th {\n",
       "        text-align: right;\n",
       "    }\n",
       "</style>\n",
       "<table border=\"1\" class=\"dataframe\">\n",
       "  <thead>\n",
       "    <tr style=\"text-align: right;\">\n",
       "      <th></th>\n",
       "      <th>AÑO</th>\n",
       "      <th>Total Hombres</th>\n",
       "      <th>Total Mujeres</th>\n",
       "      <th>Total</th>\n",
       "      <th>DP</th>\n",
       "    </tr>\n",
       "  </thead>\n",
       "  <tbody>\n",
       "    <tr>\n",
       "      <th>0</th>\n",
       "      <td>2016</td>\n",
       "      <td>3000534</td>\n",
       "      <td>3210778</td>\n",
       "      <td>6211312</td>\n",
       "      <td>5</td>\n",
       "    </tr>\n",
       "    <tr>\n",
       "      <th>1</th>\n",
       "      <td>2016</td>\n",
       "      <td>1182828</td>\n",
       "      <td>1244218</td>\n",
       "      <td>2427046</td>\n",
       "      <td>8</td>\n",
       "    </tr>\n",
       "    <tr>\n",
       "      <th>2</th>\n",
       "      <td>2016</td>\n",
       "      <td>3495609</td>\n",
       "      <td>3805309</td>\n",
       "      <td>7300918</td>\n",
       "      <td>11</td>\n",
       "    </tr>\n",
       "    <tr>\n",
       "      <th>3</th>\n",
       "      <td>2016</td>\n",
       "      <td>1000545</td>\n",
       "      <td>1012465</td>\n",
       "      <td>2013010</td>\n",
       "      <td>13</td>\n",
       "    </tr>\n",
       "    <tr>\n",
       "      <th>4</th>\n",
       "      <td>2016</td>\n",
       "      <td>590818</td>\n",
       "      <td>609160</td>\n",
       "      <td>1199978</td>\n",
       "      <td>15</td>\n",
       "    </tr>\n",
       "    <tr>\n",
       "      <th>...</th>\n",
       "      <td>...</td>\n",
       "      <td>...</td>\n",
       "      <td>...</td>\n",
       "      <td>...</td>\n",
       "      <td>...</td>\n",
       "    </tr>\n",
       "    <tr>\n",
       "      <th>226</th>\n",
       "      <td>2022</td>\n",
       "      <td>42406</td>\n",
       "      <td>39662</td>\n",
       "      <td>82068</td>\n",
       "      <td>91</td>\n",
       "    </tr>\n",
       "    <tr>\n",
       "      <th>227</th>\n",
       "      <td>2022</td>\n",
       "      <td>26940</td>\n",
       "      <td>25121</td>\n",
       "      <td>52061</td>\n",
       "      <td>94</td>\n",
       "    </tr>\n",
       "    <tr>\n",
       "      <th>228</th>\n",
       "      <td>2022</td>\n",
       "      <td>47393</td>\n",
       "      <td>42964</td>\n",
       "      <td>90357</td>\n",
       "      <td>95</td>\n",
       "    </tr>\n",
       "    <tr>\n",
       "      <th>229</th>\n",
       "      <td>2022</td>\n",
       "      <td>25520</td>\n",
       "      <td>23412</td>\n",
       "      <td>48932</td>\n",
       "      <td>97</td>\n",
       "    </tr>\n",
       "    <tr>\n",
       "      <th>230</th>\n",
       "      <td>2022</td>\n",
       "      <td>60862</td>\n",
       "      <td>54916</td>\n",
       "      <td>115778</td>\n",
       "      <td>99</td>\n",
       "    </tr>\n",
       "  </tbody>\n",
       "</table>\n",
       "<p>231 rows × 5 columns</p>\n",
       "</div>"
      ],
      "text/plain": [
       "      AÑO  Total Hombres  Total Mujeres    Total  DP\n",
       "0    2016        3000534        3210778  6211312   5\n",
       "1    2016        1182828        1244218  2427046   8\n",
       "2    2016        3495609        3805309  7300918  11\n",
       "3    2016        1000545        1012465  2013010  13\n",
       "4    2016         590818         609160  1199978  15\n",
       "..    ...            ...            ...      ...  ..\n",
       "226  2022          42406          39662    82068  91\n",
       "227  2022          26940          25121    52061  94\n",
       "228  2022          47393          42964    90357  95\n",
       "229  2022          25520          23412    48932  97\n",
       "230  2022          60862          54916   115778  99\n",
       "\n",
       "[231 rows x 5 columns]"
      ]
     },
     "execution_count": 8,
     "metadata": {},
     "output_type": "execute_result"
    }
   ],
   "source": [
    "dept_pop_hist = dept_pop[['AÑO', 'Total Hombres', 'Total Mujeres', 'Total', 'DP']]\n",
    "dept_pop_hist"
   ]
  },
  {
   "cell_type": "code",
   "execution_count": 9,
   "metadata": {},
   "outputs": [
    {
     "data": {
      "text/plain": [
       "1.0"
      ]
     },
     "execution_count": 9,
     "metadata": {},
     "output_type": "execute_result"
    }
   ],
   "source": [
    "(dept_pop_hist[\"Total\"] == (dept_pop_hist[\"Total Hombres\"] + dept_pop_hist[\"Total Mujeres\"])).mean()"
   ]
  },
  {
   "cell_type": "markdown",
   "metadata": {},
   "source": [
    "Keep total column is not necessary since for every row it is equal to the sum of total women and total men"
   ]
  },
  {
   "cell_type": "markdown",
   "metadata": {},
   "source": [
    "### Departments Table"
   ]
  },
  {
   "cell_type": "code",
   "execution_count": 10,
   "metadata": {},
   "outputs": [
    {
     "data": {
      "text/plain": [
       "(33, 33)"
      ]
     },
     "execution_count": 10,
     "metadata": {},
     "output_type": "execute_result"
    }
   ],
   "source": [
    "dept_pop[\"DPNOM\"].nunique(), dept_pop[\"DP\"].nunique()"
   ]
  },
  {
   "cell_type": "code",
   "execution_count": 11,
   "metadata": {},
   "outputs": [
    {
     "data": {
      "text/plain": [
       "array([ 5,  8, 11, 13, 15, 17, 18, 19, 20, 23, 25, 27, 41, 44, 47, 50, 52,\n",
       "       54, 63, 66, 68, 70, 73, 76, 81, 85, 86, 88, 91, 94, 95, 97, 99])"
      ]
     },
     "execution_count": 11,
     "metadata": {},
     "output_type": "execute_result"
    }
   ],
   "source": [
    "dept_pop[\"DP\"].unique()"
   ]
  },
  {
   "cell_type": "code",
   "execution_count": 12,
   "metadata": {},
   "outputs": [
    {
     "data": {
      "text/html": [
       "<div>\n",
       "<style scoped>\n",
       "    .dataframe tbody tr th:only-of-type {\n",
       "        vertical-align: middle;\n",
       "    }\n",
       "\n",
       "    .dataframe tbody tr th {\n",
       "        vertical-align: top;\n",
       "    }\n",
       "\n",
       "    .dataframe thead th {\n",
       "        text-align: right;\n",
       "    }\n",
       "</style>\n",
       "<table border=\"1\" class=\"dataframe\">\n",
       "  <thead>\n",
       "    <tr style=\"text-align: right;\">\n",
       "      <th></th>\n",
       "      <th>DPNOM</th>\n",
       "    </tr>\n",
       "    <tr>\n",
       "      <th>DP</th>\n",
       "      <th></th>\n",
       "    </tr>\n",
       "  </thead>\n",
       "  <tbody>\n",
       "    <tr>\n",
       "      <th>5</th>\n",
       "      <td>Antioquia</td>\n",
       "    </tr>\n",
       "    <tr>\n",
       "      <th>8</th>\n",
       "      <td>Atlántico</td>\n",
       "    </tr>\n",
       "    <tr>\n",
       "      <th>11</th>\n",
       "      <td>Bogotá, D.C.</td>\n",
       "    </tr>\n",
       "    <tr>\n",
       "      <th>13</th>\n",
       "      <td>Bolívar</td>\n",
       "    </tr>\n",
       "    <tr>\n",
       "      <th>15</th>\n",
       "      <td>Boyacá</td>\n",
       "    </tr>\n",
       "    <tr>\n",
       "      <th>17</th>\n",
       "      <td>Caldas</td>\n",
       "    </tr>\n",
       "    <tr>\n",
       "      <th>18</th>\n",
       "      <td>Caquetá</td>\n",
       "    </tr>\n",
       "    <tr>\n",
       "      <th>19</th>\n",
       "      <td>Cauca</td>\n",
       "    </tr>\n",
       "    <tr>\n",
       "      <th>20</th>\n",
       "      <td>Cesar</td>\n",
       "    </tr>\n",
       "    <tr>\n",
       "      <th>23</th>\n",
       "      <td>Córdoba</td>\n",
       "    </tr>\n",
       "    <tr>\n",
       "      <th>25</th>\n",
       "      <td>Cundinamarca</td>\n",
       "    </tr>\n",
       "    <tr>\n",
       "      <th>27</th>\n",
       "      <td>Chocó</td>\n",
       "    </tr>\n",
       "    <tr>\n",
       "      <th>41</th>\n",
       "      <td>Huila</td>\n",
       "    </tr>\n",
       "    <tr>\n",
       "      <th>44</th>\n",
       "      <td>La Guajira</td>\n",
       "    </tr>\n",
       "    <tr>\n",
       "      <th>47</th>\n",
       "      <td>Magdalena</td>\n",
       "    </tr>\n",
       "    <tr>\n",
       "      <th>50</th>\n",
       "      <td>Meta</td>\n",
       "    </tr>\n",
       "    <tr>\n",
       "      <th>52</th>\n",
       "      <td>Nariño</td>\n",
       "    </tr>\n",
       "    <tr>\n",
       "      <th>54</th>\n",
       "      <td>Norte de Santander</td>\n",
       "    </tr>\n",
       "    <tr>\n",
       "      <th>63</th>\n",
       "      <td>Quindio</td>\n",
       "    </tr>\n",
       "    <tr>\n",
       "      <th>66</th>\n",
       "      <td>Risaralda</td>\n",
       "    </tr>\n",
       "    <tr>\n",
       "      <th>68</th>\n",
       "      <td>Santander</td>\n",
       "    </tr>\n",
       "    <tr>\n",
       "      <th>70</th>\n",
       "      <td>Sucre</td>\n",
       "    </tr>\n",
       "    <tr>\n",
       "      <th>73</th>\n",
       "      <td>Tolima</td>\n",
       "    </tr>\n",
       "    <tr>\n",
       "      <th>76</th>\n",
       "      <td>Valle del Cauca</td>\n",
       "    </tr>\n",
       "    <tr>\n",
       "      <th>81</th>\n",
       "      <td>Arauca</td>\n",
       "    </tr>\n",
       "    <tr>\n",
       "      <th>85</th>\n",
       "      <td>Casanare</td>\n",
       "    </tr>\n",
       "    <tr>\n",
       "      <th>86</th>\n",
       "      <td>Putumayo</td>\n",
       "    </tr>\n",
       "    <tr>\n",
       "      <th>88</th>\n",
       "      <td>Archipiélago de San Andrés</td>\n",
       "    </tr>\n",
       "    <tr>\n",
       "      <th>91</th>\n",
       "      <td>Amazonas</td>\n",
       "    </tr>\n",
       "    <tr>\n",
       "      <th>94</th>\n",
       "      <td>Guainía</td>\n",
       "    </tr>\n",
       "    <tr>\n",
       "      <th>95</th>\n",
       "      <td>Guaviare</td>\n",
       "    </tr>\n",
       "    <tr>\n",
       "      <th>97</th>\n",
       "      <td>Vaupés</td>\n",
       "    </tr>\n",
       "    <tr>\n",
       "      <th>99</th>\n",
       "      <td>Vichada</td>\n",
       "    </tr>\n",
       "  </tbody>\n",
       "</table>\n",
       "</div>"
      ],
      "text/plain": [
       "                         DPNOM\n",
       "DP                            \n",
       "5                    Antioquia\n",
       "8                    Atlántico\n",
       "11                Bogotá, D.C.\n",
       "13                     Bolívar\n",
       "15                      Boyacá\n",
       "17                      Caldas\n",
       "18                     Caquetá\n",
       "19                       Cauca\n",
       "20                       Cesar\n",
       "23                     Córdoba\n",
       "25                Cundinamarca\n",
       "27                       Chocó\n",
       "41                       Huila\n",
       "44                  La Guajira\n",
       "47                   Magdalena\n",
       "50                        Meta\n",
       "52                      Nariño\n",
       "54          Norte de Santander\n",
       "63                     Quindio\n",
       "66                   Risaralda\n",
       "68                   Santander\n",
       "70                       Sucre\n",
       "73                      Tolima\n",
       "76             Valle del Cauca\n",
       "81                      Arauca\n",
       "85                    Casanare\n",
       "86                    Putumayo\n",
       "88  Archipiélago de San Andrés\n",
       "91                    Amazonas\n",
       "94                     Guainía\n",
       "95                    Guaviare\n",
       "97                      Vaupés\n",
       "99                     Vichada"
      ]
     },
     "execution_count": 12,
     "metadata": {},
     "output_type": "execute_result"
    }
   ],
   "source": [
    "departments = dept_pop[[\"DP\", \"DPNOM\"]].drop_duplicates().set_index(\"DP\")\n",
    "departments"
   ]
  },
  {
   "cell_type": "code",
   "execution_count": 13,
   "metadata": {},
   "outputs": [
    {
     "data": {
      "text/plain": [
       "26"
      ]
     },
     "execution_count": 13,
     "metadata": {},
     "output_type": "execute_result"
    }
   ],
   "source": [
    "departments[\"DPNOM\"].apply(len).max()"
   ]
  },
  {
   "cell_type": "markdown",
   "metadata": {},
   "source": [
    "## Municipality Population"
   ]
  },
  {
   "cell_type": "markdown",
   "metadata": {},
   "source": [
    "### Municipality Population History"
   ]
  },
  {
   "cell_type": "code",
   "execution_count": 14,
   "metadata": {},
   "outputs": [
    {
     "data": {
      "text/html": [
       "<div>\n",
       "<style scoped>\n",
       "    .dataframe tbody tr th:only-of-type {\n",
       "        vertical-align: middle;\n",
       "    }\n",
       "\n",
       "    .dataframe tbody tr th {\n",
       "        vertical-align: top;\n",
       "    }\n",
       "\n",
       "    .dataframe thead th {\n",
       "        text-align: right;\n",
       "    }\n",
       "</style>\n",
       "<table border=\"1\" class=\"dataframe\">\n",
       "  <thead>\n",
       "    <tr style=\"text-align: right;\">\n",
       "      <th></th>\n",
       "      <th>DP</th>\n",
       "      <th>DPNOM</th>\n",
       "      <th>COD_MUNICIPIO</th>\n",
       "      <th>MPNOM</th>\n",
       "      <th>AÑO</th>\n",
       "      <th>ÁREA GEOGRÁFICA</th>\n",
       "      <th>Total</th>\n",
       "    </tr>\n",
       "  </thead>\n",
       "  <tbody>\n",
       "    <tr>\n",
       "      <th>0</th>\n",
       "      <td>5</td>\n",
       "      <td>Antioquia</td>\n",
       "      <td>5001</td>\n",
       "      <td>Medellín</td>\n",
       "      <td>2016</td>\n",
       "      <td>Total</td>\n",
       "      <td>2351077</td>\n",
       "    </tr>\n",
       "    <tr>\n",
       "      <th>1</th>\n",
       "      <td>5</td>\n",
       "      <td>Antioquia</td>\n",
       "      <td>5002</td>\n",
       "      <td>Abejorral</td>\n",
       "      <td>2016</td>\n",
       "      <td>Total</td>\n",
       "      <td>20534</td>\n",
       "    </tr>\n",
       "    <tr>\n",
       "      <th>2</th>\n",
       "      <td>5</td>\n",
       "      <td>Antioquia</td>\n",
       "      <td>5004</td>\n",
       "      <td>Abriaquí</td>\n",
       "      <td>2016</td>\n",
       "      <td>Total</td>\n",
       "      <td>2629</td>\n",
       "    </tr>\n",
       "    <tr>\n",
       "      <th>3</th>\n",
       "      <td>5</td>\n",
       "      <td>Antioquia</td>\n",
       "      <td>5021</td>\n",
       "      <td>Alejandría</td>\n",
       "      <td>2016</td>\n",
       "      <td>Total</td>\n",
       "      <td>4620</td>\n",
       "    </tr>\n",
       "    <tr>\n",
       "      <th>4</th>\n",
       "      <td>5</td>\n",
       "      <td>Antioquia</td>\n",
       "      <td>5030</td>\n",
       "      <td>Amagá</td>\n",
       "      <td>2016</td>\n",
       "      <td>Total</td>\n",
       "      <td>29394</td>\n",
       "    </tr>\n",
       "  </tbody>\n",
       "</table>\n",
       "</div>"
      ],
      "text/plain": [
       "   DP      DPNOM  COD_MUNICIPIO       MPNOM   AÑO ÁREA GEOGRÁFICA    Total\n",
       "0   5  Antioquia           5001    Medellín  2016           Total  2351077\n",
       "1   5  Antioquia           5002   Abejorral  2016           Total    20534\n",
       "2   5  Antioquia           5004    Abriaquí  2016           Total     2629\n",
       "3   5  Antioquia           5021  Alejandría  2016           Total     4620\n",
       "4   5  Antioquia           5030       Amagá  2016           Total    29394"
      ]
     },
     "execution_count": 14,
     "metadata": {},
     "output_type": "execute_result"
    }
   ],
   "source": [
    "mun_pop = pd.read_csv(\n",
    "    data_dir / \"municipality_population_2016_2022.csv\",\n",
    "    sep=\";\"\n",
    ")\n",
    "\n",
    "mun_pop.head()"
   ]
  },
  {
   "cell_type": "code",
   "execution_count": 15,
   "metadata": {},
   "outputs": [
    {
     "name": "stdout",
     "output_type": "stream",
     "text": [
      "<class 'pandas.core.frame.DataFrame'>\n",
      "RangeIndex: 7854 entries, 0 to 7853\n",
      "Data columns (total 7 columns):\n",
      " #   Column           Non-Null Count  Dtype \n",
      "---  ------           --------------  ----- \n",
      " 0   DP               7854 non-null   int64 \n",
      " 1   DPNOM            7854 non-null   object\n",
      " 2   COD_MUNICIPIO    7854 non-null   int64 \n",
      " 3   MPNOM            7854 non-null   object\n",
      " 4   AÑO              7854 non-null   int64 \n",
      " 5   ÁREA GEOGRÁFICA  7854 non-null   object\n",
      " 6   Total            7854 non-null   int64 \n",
      "dtypes: int64(4), object(3)\n",
      "memory usage: 429.6+ KB\n"
     ]
    }
   ],
   "source": [
    "mun_pop.info()"
   ]
  },
  {
   "cell_type": "code",
   "execution_count": 16,
   "metadata": {},
   "outputs": [
    {
     "data": {
      "text/html": [
       "<div>\n",
       "<style scoped>\n",
       "    .dataframe tbody tr th:only-of-type {\n",
       "        vertical-align: middle;\n",
       "    }\n",
       "\n",
       "    .dataframe tbody tr th {\n",
       "        vertical-align: top;\n",
       "    }\n",
       "\n",
       "    .dataframe thead th {\n",
       "        text-align: right;\n",
       "    }\n",
       "</style>\n",
       "<table border=\"1\" class=\"dataframe\">\n",
       "  <thead>\n",
       "    <tr style=\"text-align: right;\">\n",
       "      <th></th>\n",
       "      <th>AÑO</th>\n",
       "      <th>Total</th>\n",
       "      <th>COD_MUNICIPIO</th>\n",
       "    </tr>\n",
       "  </thead>\n",
       "  <tbody>\n",
       "    <tr>\n",
       "      <th>0</th>\n",
       "      <td>2016</td>\n",
       "      <td>2351077</td>\n",
       "      <td>5001</td>\n",
       "    </tr>\n",
       "    <tr>\n",
       "      <th>1</th>\n",
       "      <td>2016</td>\n",
       "      <td>20534</td>\n",
       "      <td>5002</td>\n",
       "    </tr>\n",
       "    <tr>\n",
       "      <th>2</th>\n",
       "      <td>2016</td>\n",
       "      <td>2629</td>\n",
       "      <td>5004</td>\n",
       "    </tr>\n",
       "    <tr>\n",
       "      <th>3</th>\n",
       "      <td>2016</td>\n",
       "      <td>4620</td>\n",
       "      <td>5021</td>\n",
       "    </tr>\n",
       "    <tr>\n",
       "      <th>4</th>\n",
       "      <td>2016</td>\n",
       "      <td>29394</td>\n",
       "      <td>5030</td>\n",
       "    </tr>\n",
       "    <tr>\n",
       "      <th>...</th>\n",
       "      <td>...</td>\n",
       "      <td>...</td>\n",
       "      <td>...</td>\n",
       "    </tr>\n",
       "    <tr>\n",
       "      <th>7849</th>\n",
       "      <td>2022</td>\n",
       "      <td>1211</td>\n",
       "      <td>97889</td>\n",
       "    </tr>\n",
       "    <tr>\n",
       "      <th>7850</th>\n",
       "      <td>2022</td>\n",
       "      <td>20798</td>\n",
       "      <td>99001</td>\n",
       "    </tr>\n",
       "    <tr>\n",
       "      <th>7851</th>\n",
       "      <td>2022</td>\n",
       "      <td>9846</td>\n",
       "      <td>99524</td>\n",
       "    </tr>\n",
       "    <tr>\n",
       "      <th>7852</th>\n",
       "      <td>2022</td>\n",
       "      <td>4297</td>\n",
       "      <td>99624</td>\n",
       "    </tr>\n",
       "    <tr>\n",
       "      <th>7853</th>\n",
       "      <td>2022</td>\n",
       "      <td>80837</td>\n",
       "      <td>99773</td>\n",
       "    </tr>\n",
       "  </tbody>\n",
       "</table>\n",
       "<p>7854 rows × 3 columns</p>\n",
       "</div>"
      ],
      "text/plain": [
       "       AÑO    Total  COD_MUNICIPIO\n",
       "0     2016  2351077           5001\n",
       "1     2016    20534           5002\n",
       "2     2016     2629           5004\n",
       "3     2016     4620           5021\n",
       "4     2016    29394           5030\n",
       "...    ...      ...            ...\n",
       "7849  2022     1211          97889\n",
       "7850  2022    20798          99001\n",
       "7851  2022     9846          99524\n",
       "7852  2022     4297          99624\n",
       "7853  2022    80837          99773\n",
       "\n",
       "[7854 rows x 3 columns]"
      ]
     },
     "execution_count": 16,
     "metadata": {},
     "output_type": "execute_result"
    }
   ],
   "source": [
    "mun_pop_filt = mun_pop[[\"AÑO\", \"Total\", \"COD_MUNICIPIO\"]]\n",
    "mun_pop_filt"
   ]
  },
  {
   "cell_type": "markdown",
   "metadata": {},
   "source": [
    "### Municipality Table"
   ]
  },
  {
   "cell_type": "code",
   "execution_count": 11,
   "metadata": {},
   "outputs": [
    {
     "data": {
      "text/html": [
       "<div>\n",
       "<style scoped>\n",
       "    .dataframe tbody tr th:only-of-type {\n",
       "        vertical-align: middle;\n",
       "    }\n",
       "\n",
       "    .dataframe tbody tr th {\n",
       "        vertical-align: top;\n",
       "    }\n",
       "\n",
       "    .dataframe thead th {\n",
       "        text-align: right;\n",
       "    }\n",
       "</style>\n",
       "<table border=\"1\" class=\"dataframe\">\n",
       "  <thead>\n",
       "    <tr style=\"text-align: right;\">\n",
       "      <th></th>\n",
       "      <th>DP</th>\n",
       "      <th>MPNOM</th>\n",
       "    </tr>\n",
       "    <tr>\n",
       "      <th>COD_MUNICIPIO</th>\n",
       "      <th></th>\n",
       "      <th></th>\n",
       "    </tr>\n",
       "  </thead>\n",
       "  <tbody>\n",
       "    <tr>\n",
       "      <th>5001</th>\n",
       "      <td>5</td>\n",
       "      <td>Medellín</td>\n",
       "    </tr>\n",
       "    <tr>\n",
       "      <th>5002</th>\n",
       "      <td>5</td>\n",
       "      <td>Abejorral</td>\n",
       "    </tr>\n",
       "    <tr>\n",
       "      <th>5004</th>\n",
       "      <td>5</td>\n",
       "      <td>Abriaquí</td>\n",
       "    </tr>\n",
       "    <tr>\n",
       "      <th>5021</th>\n",
       "      <td>5</td>\n",
       "      <td>Alejandría</td>\n",
       "    </tr>\n",
       "    <tr>\n",
       "      <th>5030</th>\n",
       "      <td>5</td>\n",
       "      <td>Amagá</td>\n",
       "    </tr>\n",
       "  </tbody>\n",
       "</table>\n",
       "</div>"
      ],
      "text/plain": [
       "               DP       MPNOM\n",
       "COD_MUNICIPIO                \n",
       "5001            5    Medellín\n",
       "5002            5   Abejorral\n",
       "5004            5    Abriaquí\n",
       "5021            5  Alejandría\n",
       "5030            5       Amagá"
      ]
     },
     "execution_count": 11,
     "metadata": {},
     "output_type": "execute_result"
    }
   ],
   "source": [
    "municipalities = mun_pop[[\"DP\", \"COD_MUNICIPIO\", \"MPNOM\"]].drop_duplicates().set_index(\"COD_MUNICIPIO\")\n",
    "municipalities.head()"
   ]
  },
  {
   "cell_type": "code",
   "execution_count": 12,
   "metadata": {},
   "outputs": [
    {
     "data": {
      "text/html": [
       "<div>\n",
       "<style scoped>\n",
       "    .dataframe tbody tr th:only-of-type {\n",
       "        vertical-align: middle;\n",
       "    }\n",
       "\n",
       "    .dataframe tbody tr th {\n",
       "        vertical-align: top;\n",
       "    }\n",
       "\n",
       "    .dataframe thead th {\n",
       "        text-align: right;\n",
       "    }\n",
       "</style>\n",
       "<table border=\"1\" class=\"dataframe\">\n",
       "  <thead>\n",
       "    <tr style=\"text-align: right;\">\n",
       "      <th></th>\n",
       "      <th>DP</th>\n",
       "      <th>MPNOM</th>\n",
       "      <th>LEN</th>\n",
       "    </tr>\n",
       "    <tr>\n",
       "      <th>COD_MUNICIPIO</th>\n",
       "      <th></th>\n",
       "      <th></th>\n",
       "      <th></th>\n",
       "    </tr>\n",
       "  </thead>\n",
       "  <tbody>\n",
       "    <tr>\n",
       "      <th>25843</th>\n",
       "      <td>25</td>\n",
       "      <td>Villa de San Diego de Ubaté</td>\n",
       "      <td>27</td>\n",
       "    </tr>\n",
       "    <tr>\n",
       "      <th>47692</th>\n",
       "      <td>47</td>\n",
       "      <td>San Sebastián de Buenavista</td>\n",
       "      <td>27</td>\n",
       "    </tr>\n",
       "    <tr>\n",
       "      <th>25645</th>\n",
       "      <td>25</td>\n",
       "      <td>San Antonio del Tequendama</td>\n",
       "      <td>26</td>\n",
       "    </tr>\n",
       "    <tr>\n",
       "      <th>23586</th>\n",
       "      <td>23</td>\n",
       "      <td>Purísima de La Concepción</td>\n",
       "      <td>25</td>\n",
       "    </tr>\n",
       "    <tr>\n",
       "      <th>5664</th>\n",
       "      <td>5</td>\n",
       "      <td>San Pedro de Los Milagros</td>\n",
       "      <td>25</td>\n",
       "    </tr>\n",
       "  </tbody>\n",
       "</table>\n",
       "</div>"
      ],
      "text/plain": [
       "               DP                        MPNOM  LEN\n",
       "COD_MUNICIPIO                                      \n",
       "25843          25  Villa de San Diego de Ubaté   27\n",
       "47692          47  San Sebastián de Buenavista   27\n",
       "25645          25   San Antonio del Tequendama   26\n",
       "23586          23    Purísima de La Concepción   25\n",
       "5664            5    San Pedro de Los Milagros   25"
      ]
     },
     "execution_count": 12,
     "metadata": {},
     "output_type": "execute_result"
    }
   ],
   "source": [
    "municipalities[\"LEN\"] = municipalities[\"MPNOM\"].apply(len)\n",
    "municipalities.sort_values(by=\"LEN\", ascending=False).head()"
   ]
  },
  {
   "cell_type": "markdown",
   "metadata": {},
   "source": [
    "## Interfamily Violence"
   ]
  },
  {
   "cell_type": "code",
   "execution_count": 26,
   "metadata": {},
   "outputs": [
    {
     "data": {
      "text/plain": [
       "0         CORTOPUNZANTES\n",
       "1          ARMA DE FUEGO\n",
       "2           CONTUNDENTES\n",
       "3           NO REPORTADO\n",
       "4    SIN EMPLEO DE ARMAS\n",
       "5           ESCOPOLAMINA\n",
       "6                      -\n",
       "Name: ARMAS MEDIOS, dtype: object"
      ]
     },
     "execution_count": 26,
     "metadata": {},
     "output_type": "execute_result"
    }
   ],
   "source": [
    "interfamily_violence = pd.read_csv(\n",
    "    data_dir / \"interfamily_violence_2010_2022.csv\",\n",
    ")\n",
    "\n",
    "weapon_means = interfamily_violence[\"ARMAS MEDIOS\"].replace({\n",
    "    \"ARMA BLANCA / CORTOPUNZANTE\": \"CORTOPUNZANTES\",\n",
    "    \"NO REPORTA\": \"NO REPORTADO\",\n",
    "    \"CORTANTES\": \"CORTOPUNZANTES\",\n",
    "    \"PUNZANTES\": \"CORTOPUNZANTES\"\n",
    "}).drop_duplicates()\n",
    "\n",
    "weapon_means.reset_index(drop=True)"
   ]
  },
  {
   "cell_type": "code",
   "execution_count": 17,
   "metadata": {},
   "outputs": [
    {
     "data": {
      "text/plain": [
       "27"
      ]
     },
     "execution_count": 17,
     "metadata": {},
     "output_type": "execute_result"
    }
   ],
   "source": [
    "weapon_means.apply(len).max()"
   ]
  },
  {
   "cell_type": "code",
   "execution_count": 19,
   "metadata": {},
   "outputs": [
    {
     "data": {
      "text/plain": [
       "ADULTOS         464213\n",
       "ADOLESCENTES     32076\n",
       "MENORES          30601\n",
       "NO REPORTADO       371\n",
       "Name: GRUPO ETARIO, dtype: int64"
      ]
     },
     "execution_count": 19,
     "metadata": {},
     "output_type": "execute_result"
    }
   ],
   "source": [
    "interfamily_violence[\"GRUPO ETARIO\"].replace({\n",
    "    \"NO REPORTA\": \"NO REPORTADO\"\n",
    "}).value_counts()"
   ]
  },
  {
   "cell_type": "markdown",
   "metadata": {},
   "source": [
    "## "
   ]
  }
 ],
 "metadata": {
  "kernelspec": {
   "display_name": "Python 3.8.12 ('ds4a')",
   "language": "python",
   "name": "python3"
  },
  "language_info": {
   "codemirror_mode": {
    "name": "ipython",
    "version": 3
   },
   "file_extension": ".py",
   "mimetype": "text/x-python",
   "name": "python",
   "nbconvert_exporter": "python",
   "pygments_lexer": "ipython3",
   "version": "3.8.12"
  },
  "orig_nbformat": 4,
  "vscode": {
   "interpreter": {
    "hash": "ee756497a570cc066a384e31a93f42c0973d151443645ad8e9d2a66bbc31a928"
   }
  }
 },
 "nbformat": 4,
 "nbformat_minor": 2
}
